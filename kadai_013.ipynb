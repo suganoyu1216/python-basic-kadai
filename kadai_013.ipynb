{
  "nbformat": 4,
  "nbformat_minor": 0,
  "metadata": {
    "colab": {
      "provenance": [],
      "authorship_tag": "ABX9TyPSuk+aZW6xmsIJUiWB+1gg",
      "include_colab_link": true
    },
    "kernelspec": {
      "name": "python3",
      "display_name": "Python 3"
    },
    "language_info": {
      "name": "python"
    }
  },
  "cells": [
    {
      "cell_type": "markdown",
      "metadata": {
        "id": "view-in-github",
        "colab_type": "text"
      },
      "source": [
        "<a href=\"https://colab.research.google.com/github/suganoyu1216/python-basic-kadai/blob/main/kadai_013.ipynb\" target=\"_parent\"><img src=\"https://colab.research.google.com/assets/colab-badge.svg\" alt=\"Open In Colab\"/></a>"
      ]
    },
    {
      "cell_type": "code",
      "execution_count": 9,
      "metadata": {
        "id": "rRqxfXmre8OB",
        "colab": {
          "base_uri": "https://localhost:8080/"
        },
        "outputId": "31e8d237-e222-4023-ba06-9ffcf2815f0b"
      },
      "outputs": [
        {
          "output_type": "stream",
          "name": "stdout",
          "text": [
            "1235.3円\n"
          ]
        }
      ],
      "source": [
        "def calculate_total(price):\n",
        "  # 与えられた引数priceの消費税taxを計算し、変数totalに代入する\n",
        "  tax = price * 0.1\n",
        "  total = price + tax\n",
        "\n",
        "  print(f\"{total}円\")\n",
        "\n",
        "calculate_total(1123)"
      ]
    }
  ]
}