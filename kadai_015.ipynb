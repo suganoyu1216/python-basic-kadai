{
  "nbformat": 4,
  "nbformat_minor": 0,
  "metadata": {
    "colab": {
      "provenance": [],
      "authorship_tag": "ABX9TyOljWXWzyM63QdIiQGRqhFe",
      "include_colab_link": true
    },
    "kernelspec": {
      "name": "python3",
      "display_name": "Python 3"
    },
    "language_info": {
      "name": "python"
    }
  },
  "cells": [
    {
      "cell_type": "markdown",
      "metadata": {
        "id": "view-in-github",
        "colab_type": "text"
      },
      "source": [
        "<a href=\"https://colab.research.google.com/github/suganoyu1216/python-basic-kadai/blob/main/kadai_015.ipynb\" target=\"_parent\"><img src=\"https://colab.research.google.com/assets/colab-badge.svg\" alt=\"Open In Colab\"/></a>"
      ]
    },
    {
      "cell_type": "code",
      "execution_count": 18,
      "metadata": {
        "colab": {
          "base_uri": "https://localhost:8080/"
        },
        "id": "ZLym3L-vwzSl",
        "outputId": "92baa79c-c3dd-40e8-db48-7f0b6ca85abe"
      },
      "outputs": [
        {
          "output_type": "stream",
          "name": "stdout",
          "text": [
            "侍太郎\n",
            "36\n"
          ]
        }
      ],
      "source": [
        "class Human:\n",
        "  #メソッドを定義する\n",
        "  def __init__(self,name,age):\n",
        "    # 属性を定義する\n",
        "    self.name = name\n",
        "    self.age = age\n",
        "\n",
        "  def print_info(self):\n",
        "    print(self.name)\n",
        "    print(self.age)\n",
        "\n",
        "# インスタンス化する\n",
        "human = Human(\"侍太郎\",36)\n",
        "\n",
        "# メソッドにアクセスして実行する\n",
        "human.print_info()\n"
      ]
    }
  ]
}