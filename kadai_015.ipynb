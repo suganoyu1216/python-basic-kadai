{
  "nbformat": 4,
  "nbformat_minor": 0,
  "metadata": {
    "colab": {
      "provenance": [],
      "authorship_tag": "ABX9TyMQfG5Bq9QeNGQCE60z5G28",
      "include_colab_link": true
    },
    "kernelspec": {
      "name": "python3",
      "display_name": "Python 3"
    },
    "language_info": {
      "name": "python"
    }
  },
  "cells": [
    {
      "cell_type": "markdown",
      "metadata": {
        "id": "view-in-github",
        "colab_type": "text"
      },
      "source": [
        "<a href=\"https://colab.research.google.com/github/suganoyu1216/python-basic-kadai/blob/main/kadai_015.ipynb\" target=\"_parent\"><img src=\"https://colab.research.google.com/assets/colab-badge.svg\" alt=\"Open In Colab\"/></a>"
      ]
    },
    {
      "cell_type": "code",
      "execution_count": 1,
      "metadata": {
        "colab": {
          "base_uri": "https://localhost:8080/"
        },
        "id": "ZLym3L-vwzSl",
        "outputId": "ebe13a70-aa97-4de4-aa11-175d8ed9abe4"
      },
      "outputs": [
        {
          "output_type": "stream",
          "name": "stdout",
          "text": [
            "侍太郎\n",
            "36\n"
          ]
        }
      ],
      "source": [
        "class Human:\n",
        "      def __init__(printinfo, name, age):\n",
        "        printinfo.name = name\n",
        "        printinfo.age = age\n",
        "\n",
        "# インスタンス化する\n",
        "printinfo = Human(\"侍太郎\",36)\n",
        "\n",
        "# 属性にアクセスし値を出力する\n",
        "print(printinfo.name)\n",
        "print(printinfo.age)\n"
      ]
    }
  ]
}