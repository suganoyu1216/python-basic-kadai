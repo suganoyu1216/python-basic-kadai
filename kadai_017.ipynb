{
  "nbformat": 4,
  "nbformat_minor": 0,
  "metadata": {
    "colab": {
      "provenance": [],
      "authorship_tag": "ABX9TyNJpqo23J3agAuqX/drjvOU",
      "include_colab_link": true
    },
    "kernelspec": {
      "name": "python3",
      "display_name": "Python 3"
    },
    "language_info": {
      "name": "python"
    }
  },
  "cells": [
    {
      "cell_type": "markdown",
      "metadata": {
        "id": "view-in-github",
        "colab_type": "text"
      },
      "source": [
        "<a href=\"https://colab.research.google.com/github/suganoyu1216/python-basic-kadai/blob/main/kadai_017.ipynb\" target=\"_parent\"><img src=\"https://colab.research.google.com/assets/colab-badge.svg\" alt=\"Open In Colab\"/></a>"
      ]
    },
    {
      "cell_type": "code",
      "execution_count": 8,
      "metadata": {
        "colab": {
          "base_uri": "https://localhost:8080/"
        },
        "id": "HeBiigGf8wlY",
        "outputId": "1d16e7e3-aba2-4f65-c5f2-0786214eec2a"
      },
      "outputs": [
        {
          "output_type": "stream",
          "name": "stdout",
          "text": [
            "太郎さんは、大人です\n",
            "次郎さんは、大人です\n",
            "三郎さんは、大人ではありません\n"
          ]
        }
      ],
      "source": [
        "class Human:\n",
        "  def __init__(self,name,age):\n",
        "    self.name = name\n",
        "    self.age = age\n",
        "\n",
        "  def check_adult(self):\n",
        "    if self.age >= 20:\n",
        "          print(f\"{self.name}さんは、大人です\")\n",
        "    else:\n",
        "          print(f\"{self.name}さんは、大人ではありません\")\n",
        "\n",
        "#インスタンス化する\n",
        "taro = Human(\"太郎\",25)\n",
        "jiro = Human(\"次郎\",21)\n",
        "saburo = Human(\"三郎\",19)\n",
        "\n",
        "#リスト化する\n",
        "humans = [taro,jiro,saburo]\n",
        "\n",
        "for human in humans:\n",
        "  human.check_adult()"
      ]
    }
  ]
}