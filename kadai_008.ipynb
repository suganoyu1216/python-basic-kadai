{
  "nbformat": 4,
  "nbformat_minor": 0,
  "metadata": {
    "colab": {
      "provenance": [],
      "gpuType": "T4",
      "authorship_tag": "ABX9TyMJpjPe40SCScd4dYGPPoC0",
      "include_colab_link": true
    },
    "kernelspec": {
      "name": "python3",
      "display_name": "Python 3"
    },
    "language_info": {
      "name": "python"
    },
    "accelerator": "GPU"
  },
  "cells": [
    {
      "cell_type": "markdown",
      "metadata": {
        "id": "view-in-github",
        "colab_type": "text"
      },
      "source": [
        "<a href=\"https://colab.research.google.com/github/suganoyu1216/python-basic-kadai/blob/main/kadai_008.ipynb\" target=\"_parent\"><img src=\"https://colab.research.google.com/assets/colab-badge.svg\" alt=\"Open In Colab\"/></a>"
      ]
    },
    {
      "cell_type": "code",
      "execution_count": 32,
      "metadata": {
        "colab": {
          "base_uri": "https://localhost:8080/"
        },
        "id": "E2PFdnqFgkUL",
        "outputId": "bc1111fe-b080-427b-ba5c-aa1e10f9efc7"
      },
      "outputs": [
        {
          "output_type": "stream",
          "name": "stdout",
          "text": [
            "2\n",
            "2\n"
          ]
        }
      ],
      "source": [
        "#ランダムな整数を利用するために、randomモジュールをインポート\n",
        "import random\n",
        "\n",
        "# 変数varに1～15までのランダムな整数を代入する\n",
        "var = random.randint(1, 15)\n",
        "\n",
        "# 変数varの値を出力\n",
        "print(var)\n",
        "\n",
        "#変数varが、3の倍数と5の倍数の両方に該当する場合は「FizzBuzz」を出力\n",
        "if var % 3 == 0 and var % 5 == 0:\n",
        "  print(\"FizzBuzz\")\n",
        "\n",
        "#変数varが、3の倍数の場合は「Fizz」を出力\n",
        "elif var % 3 == 0:\n",
        "  print(\"Fizz\")\n",
        "\n",
        "#変数varが、5の倍数の場合は「Buzz」を出力\n",
        "elif var % 5 == 0:\n",
        "  print(\"Buzz\")\n",
        "\n",
        "#上記のどの場合にも該当しない場合は、変数varの値を出力\n",
        "else:\n",
        "  print(var)"
      ]
    }
  ]
}