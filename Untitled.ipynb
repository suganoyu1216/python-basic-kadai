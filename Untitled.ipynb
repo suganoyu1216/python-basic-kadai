{
  "nbformat": 4,
  "nbformat_minor": 0,
  "metadata": {
    "colab": {
      "provenance": [],
      "authorship_tag": "ABX9TyPVxJHwCi6wAI96OR2BMTqD",
      "include_colab_link": true
    },
    "kernelspec": {
      "name": "python3",
      "display_name": "Python 3"
    },
    "language_info": {
      "name": "python"
    }
  },
  "cells": [
    {
      "cell_type": "markdown",
      "metadata": {
        "id": "view-in-github",
        "colab_type": "text"
      },
      "source": [
        "<a href=\"https://colab.research.google.com/github/suganoyu1216/python-basic-kadai/blob/main/Untitled.ipynb\" target=\"_parent\"><img src=\"https://colab.research.google.com/assets/colab-badge.svg\" alt=\"Open In Colab\"/></a>"
      ]
    },
    {
      "cell_type": "code",
      "execution_count": null,
      "metadata": {
        "colab": {
          "base_uri": "https://localhost:8080/"
        },
        "id": "EFHN4Lx_NGj8",
        "outputId": "aad5d5f9-515e-499b-b67c-5b55ff3e4a39"
      },
      "outputs": [
        {
          "output_type": "stream",
          "name": "stdout",
          "text": [
            "台形の面積は75.0㎠です。\n"
          ]
        }
      ],
      "source": [
        "a = 10 #上辺\n",
        "b = 20 #下辺\n",
        "h = 5 #高さ\n",
        "daikei_area = (a + b) * h / 2\n",
        "print(f\"台形の面積は{daikei_area}㎠です。\")"
      ]
    }
  ]
}